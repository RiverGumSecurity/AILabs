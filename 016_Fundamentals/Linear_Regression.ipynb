{
 "cells": [
  {
   "cell_type": "markdown",
   "id": "146278fd-b8b9-4e5a-942d-dffa4e4f81ff",
   "metadata": {},
   "source": [
    "<a href=\"https://colab.research.google.com/github/RiverGumSecurity/AILabs/blob/main/016_Fundamentals/Linear_Regression.ipynb\" target=\"_new\"><img src=\"https://colab.research.google.com/assets/colab-badge.svg\" alt=\"Open In Colab\"/></a>"
   ]
  },
  {
   "cell_type": "markdown",
   "id": "f594a5f1-da3c-4acc-88da-81e55131f1ee",
   "metadata": {},
   "source": [
    "# Linear Regression\n",
    "\n",
    "Linear regression is a fundamental statistical and machine learning technique used to model the relationship between one or more independent variables and a continuous dependent variable. In other words, it is a predictive modeling technique used to understand the relationship between two variables, where one variable's value is predicted based on the real-time input of the other.\n",
    "\n",
    "It does so by fitting a line (or hyperplane in multiple dimensions) that minimizes the error between predicted and actual values. It is useful to predict future values for similar datasets.\n",
    "\n",
    "The goal of linear regression is to find coefficients for the model that minimize the MSE, ensuring the model predicts as closely as possible to observed data. By focusing on MSE, linear regression emphasizes both accuracy and sensitivity to outliers in predictions, making it a widely used method for forecasting and data analysis tasks.\n",
    "\n",
    "The overall process conists of:\n",
    "\n",
    "1. Loading the dataset\n",
    "2. Creating feature and target values out of the data\n",
    "3. Splitting data into training and validation sets\n",
    "4. Training a linear regression model\n",
    "5. Making predictions\n",
    "6. Evaluating the model\n",
    "7. Predicting new data"
   ]
  },
  {
   "cell_type": "code",
   "execution_count": null,
   "id": "833dec18-8426-4af6-a8e5-605e9cbf78b6",
   "metadata": {},
   "outputs": [],
   "source": [
    "# import libraries\n",
    "import numpy as np\n",
    "import pandas as pd\n",
    "import matplotlib.pyplot as plt\n",
    "from sklearn.datasets import fetch_california_housing\n",
    "from sklearn.model_selection import train_test_split\n",
    "from sklearn.linear_model import LinearRegression\n",
    "from sklearn.metrics import mean_squared_error, r2_score\n"
   ]
  },
  {
   "cell_type": "markdown",
   "id": "988e5c62-b313-482f-b926-73f5f9e6685f",
   "metadata": {},
   "source": [
    "## Loading the Dataset\n",
    "\n",
    "The California Housing Sataset is a well-known dataset in the field of machine learning and statistics, commonly used for regression tasks. It contains data on housing in California from the 1990 U.S. Census. The dataset's goal is to predict the median house value of districts based on various features, providing a real-world scenario for regression modeling. It is included with scikit-learn.\n",
    "\n",
    "The dataset consists of 20,640 observations (districts) and 8 features:\n",
    "\n",
    "1. **Median Income**: Median income of households in the district, scaled to a roughly normalized range (e.g., 2–15).\n",
    "2. **House Age**: Median age of houses in the district.\n",
    "3. **Average Rooms**: Average number of rooms per household.\n",
    "4. **Average Bedrooms**: Average number of bedrooms per household.\n",
    "5. **Population**: Total population of the district.\n",
    "6. **Households**: Total number of households in the district.\n",
    "7. **Latitude**: Geographical coordinate (north-south location of the district).\n",
    "8. **Longitude**: Geographical coordinate (east-west location of the district).\n",
    "\n",
    "The target variable is **Median House Value**, which is capped at $500,000 in the dataset, creating a slight limitation due to this ceiling effect. The dataset is useful for exploring relationships between socio-economic and geographical factors and housing prices, and it is often used as a benchmark for regression algorithms in machine learning tasks."
   ]
  },
  {
   "cell_type": "code",
   "execution_count": null,
   "id": "bfb2a9aa-0b1c-42bb-bcc6-98770265f922",
   "metadata": {},
   "outputs": [],
   "source": [
    "## Load the California housing dataset\n",
    "housing = fetch_california_housing()\n",
    "df = pd.DataFrame(housing.data, columns=housing.feature_names)\n",
    "df['MedHouseVal'] = housing.target"
   ]
  },
  {
   "cell_type": "code",
   "execution_count": null,
   "id": "fddc3c71-0700-4b07-804d-1d4a901351f4",
   "metadata": {},
   "outputs": [],
   "source": [
    "## Display the first few rows of the dataset\n",
    "df.head()"
   ]
  },
  {
   "cell_type": "markdown",
   "id": "79d39b55-8f2c-4dbe-bc1a-8257fcfe2b28",
   "metadata": {},
   "source": [
    "## Separate Features and Target\n",
    "\n",
    "We will split the dataset into training and testing subsets for machine learning, using the `train_test_split` function from **scikit-learn**. \n",
    "\n",
    "   - `X = df.drop('MedHouseVal', axis=1)`: This creates a DataFrame `X` containing all columns except the target variable (`MedHouseVal`), which is the median house value in this context. The `drop` function removes the target column from the feature set.\n",
    "   - `y = df['MedHouseVal']`: This creates a Series `y` that contains only the target variable (`MedHouseVal`), which we aim to predict.\n"
   ]
  },
  {
   "cell_type": "code",
   "execution_count": null,
   "id": "b7c64f86-7b68-4f70-ad9b-e6e3f440a470",
   "metadata": {},
   "outputs": [],
   "source": [
    "## Split the data into training and testing sets\n",
    "X = df.drop('MedHouseVal', axis=1)\n",
    "y = df['MedHouseVal']\n"
   ]
  },
  {
   "cell_type": "markdown",
   "id": "923e2350-93bd-4b14-b6fe-63aa21f659d4",
   "metadata": {},
   "source": [
    "## Split the Dataset\n",
    "We split the data into testing and vaildation sets, so that we train on one set and validate and score on the other set\n",
    "\n",
    "   - `train_test_split(X, y, test_size=0.2, random_state=42)`: This splits the data into training and testing subsets:\n",
    "     - **`X_train` and `X_test`**: These contain the training and testing splits of the features (`X`).\n",
    "     - **`y_train` and `y_test`**: These contain the corresponding target values for the training and testing sets (`y`).\n",
    "     - `test_size=0.2`: Specifies that 20% of the data will be allocated to the testing set, and the remaining 80% will be used for training.\n",
    "     - `random_state=42`: Sets a seed for random number generation to ensure reproducibility of the split, meaning the same split will occur every time the code runs.\n",
    "\n",
    "The resulting datasets (`X_train`, `X_test`, `y_train`, `y_test`) can now be used for training and evaluating a machine learning model."
   ]
  },
  {
   "cell_type": "code",
   "execution_count": null,
   "id": "22a496c4-579b-4d37-8c3f-937a72eb69ff",
   "metadata": {},
   "outputs": [],
   "source": [
    "X_train, X_test, y_train, y_test = train_test_split(X, y, test_size=0.2, random_state=42)"
   ]
  },
  {
   "cell_type": "markdown",
   "id": "01dd130f-44de-4ac4-8ad8-cb50025da9a4",
   "metadata": {},
   "source": [
    "## Create Linear Regression Model\n",
    "\n",
    "Creating the model involves two main steps:\n",
    "\n",
    "**Model Initialization**\n",
    "\n",
    "```\n",
    "model = LinearRegression()\n",
    "```\n",
    "\n",
    "- **What it does**: This line creates an instance of the `LinearRegression` class, which is part of the `sklearn` library.\n",
    "- **Purpose**: The `LinearRegression` model is used to find the best-fit line (or hyperplane in higher dimensions) for the given data. It assumes a linear relationship between the input features (`X`) and the target variable (`y`).\n",
    "- **Behind the scenes**: The model will later calculate coefficients (weights) for each feature and an intercept to minimize the difference (error) between the actual and predicted values.\n",
    "\n",
    "The mathematical representation of linear regression is:\n",
    "\n",
    "$$ y = w_1x_1 + w_2x_2 + \\dots + w_nx_n + b $$\n",
    "\n",
    "where:\n",
    "- $y$ is the target (predicted output),\n",
    "- $x_1, x_2, dots, x_n$ are the input features,\n",
    "- $w_1, w_2, dots, w_n$ are the coefficients (weights) for each feature,\n",
    "- $b$ is the intercept (bias term).\n",
    "\n",
    "---\n",
    "\n",
    "**Model Training**\n",
    "```python\n",
    "model.fit(X_train, y_train)\n",
    "```\n",
    "\n",
    "- **What it does**: The `.fit()` method trains the linear regression model using the training dataset (`X_train` and `y_train`).\n",
    "  - `X_train`: The input features (e.g., TF-IDF vectors of email text) for training.\n",
    "  - `y_train`: The target values (e.g., binary labels indicating whether an email is phishing or legitimate).\n",
    "\n",
    "- **Purpose**: The model learns the optimal values for the coefficients (\\(w_1, w_2, \\dots, w_n\\)) and the intercept (\\(b\\)) that minimize the error between predicted values and actual target values.\n",
    "\n",
    "- **Error Minimization**: The training process minimizes the **Mean Squared Error (MSE)**:\n",
    "\n",
    "$$\n",
    "MSE = \\frac{1}{N} \\sum_{i=1}^{N} \\left( y_i - \\hat{y}_i \\right)^2\n",
    "$$\n",
    "\n",
    "where:\n",
    "- $N$ is the number of samples,\n",
    "- $y_i$ is the actual value,\n",
    "- $\\hat{y}_i$ is the predicted value.\n",
    "\n",
    "---\n",
    "\n",
    "**Outcome**\n",
    "\n",
    "After `model.fit()` is called:\n",
    "- The model has learned the relationship between the input features (`X_train`) and the target values (`y_train`).\n",
    "- It can now be used to predict target values for unseen data using `model.predict(X_test)` or similar.\n",
    "\n",
    "In summary, this snippet initializes a linear regression model and trains it on the training data to learn a linear relationship between input features and target values."
   ]
  },
  {
   "cell_type": "code",
   "execution_count": null,
   "id": "6e2f47e2-cb22-447d-a883-750754b70383",
   "metadata": {},
   "outputs": [],
   "source": [
    "## Create and train the linear regression model\n",
    "model = LinearRegression()\n",
    "model.fit(X_train, y_train)"
   ]
  },
  {
   "cell_type": "markdown",
   "id": "e7316e68-2f81-42da-b415-d9130631e9aa",
   "metadata": {},
   "source": [
    "## Making Predictions on the data\n",
    "\n",
    "This step applies the trained linear regression model to unseen test data to generate predictions. The unseen data is our validation test set. In practicen these predictions could then be analyzed, compared to actual values, or used for further business decision-making."
   ]
  },
  {
   "cell_type": "code",
   "execution_count": null,
   "id": "5546c6ab-892c-4dc9-8794-b326ad957c96",
   "metadata": {},
   "outputs": [],
   "source": [
    "## Make predictions on the testing set\n",
    "y_pred = model.predict(X_test)\n"
   ]
  },
  {
   "cell_type": "markdown",
   "id": "ff2753fe-8488-4d64-89b4-7d328378b3ca",
   "metadata": {},
   "source": [
    "## Evaluation of Model Performance\n",
    "\n",
    "Interpreting **Mean Squared Error (MSE):**\n",
    "\n",
    "The central metric for evaluating this error is the **Mean Squared Error (MSE)**, which calculates the average of the squared differences between predicted values $(\\hat{y})$ and true values $(y)$. Squaring these differences ensures that errors are penalized proportionally to their magnitude, emphasizing large deviations.\n",
    "\n",
    "The **Mean Squared Error (MSE)** quantifies the average squared difference between predicted values (\\(\\hat{y}\\)) and actual values (\\(y\\)) in a regression model. Here's how to interpret it:\n",
    "\n",
    "1. **Scale and Units**:\n",
    "   - MSE is measured in the square of the units of the target variable. For example, if the target is housing prices in dollars, the MSE is in squared dollars.\n",
    "   \n",
    "2. **Lower MSE is Better**:\n",
    "   - A smaller MSE indicates that the predictions are closer to the actual values, meaning the model performs better.\n",
    "   \n",
    "3. **Sensitive to Outliers**:\n",
    "   - MSE heavily penalizes large errors because the differences are squared. A few large deviations can significantly increase the MSE.\n",
    "\n",
    "4. **Absolute Meaning**:\n",
    "   - While MSE is useful for comparing models, its absolute value doesn’t convey how “good” a model is without context. For example, comparing the MSE to the variance of the data can help gauge the model's effectiveness.\n",
    "\n",
    "---\n",
    "\n",
    "### Interpreting **\\(R^2\\) (R-squared)**:\n",
    "\n",
    "The **R-squared** value, also known as the coefficient of determination, measures the proportion of variance in the dependent variable that is predictable from the independent variables. Its interpretation:\n",
    "\n",
    "1. **Range**:\n",
    "   - \\(R^2\\) ranges from 0 to 1:\n",
    "     - \\(R^2 = 0\\): The model explains none of the variance in the target variable (no predictive power).\n",
    "     - \\(R^2 = 1\\): The model explains all of the variance in the target variable (perfect predictive power).\n",
    "   - In rare cases, \\(R^2\\) can be negative if the model performs worse than simply predicting the mean value of the target.\n",
    "\n",
    "2. **Higher \\(R^2\\) is Better**:\n",
    "   - Higher \\(R^2\\) values indicate that the model accounts for more of the variability in the target variable. However, a high \\(R^2\\) doesn’t always mean the model is good—it might be overfitting.\n",
    "\n",
    "3. **Complementary to MSE**:\n",
    "   - While MSE gives an absolute error metric, \\(R^2\\) gives a relative measure of how well the model captures variability compared to a baseline (the mean).\n",
    "\n",
    "If \\(R^2 = 0.85\\), it means the model explains 85% of the variance in housing prices, which is usually a sign of a strong model, assuming the data isn’t overfit or has multicollinearity issues."
   ]
  },
  {
   "cell_type": "code",
   "execution_count": null,
   "id": "94004406-944a-4065-841d-14e26429c9ae",
   "metadata": {},
   "outputs": [],
   "source": [
    "## Evaluate the model\n",
    "mse = mean_squared_error(y_test, y_pred)\n",
    "r2 = r2_score(y_test, y_pred)"
   ]
  },
  {
   "cell_type": "code",
   "execution_count": null,
   "id": "444579f0-d073-44c2-bb5a-e4aa5a2250ab",
   "metadata": {},
   "outputs": [],
   "source": [
    "print(f'Mean Squared Error: {mse}')\n",
    "print(f'R-squared: {r2}')"
   ]
  },
  {
   "cell_type": "markdown",
   "id": "579a313d-48e1-46e6-9617-c0708100110a",
   "metadata": {},
   "source": [
    "We can visualize the relationship between the actual (measured) values and the predicted values from the regression model. Each point in the scatter plot represents a single test data sample.\n",
    "The x-coordinate is the actual value and y-coordinate is the predicted value. If the model's predictions were perfect, all points would lie on a straight line (the diagonal)"
   ]
  },
  {
   "cell_type": "code",
   "execution_count": null,
   "id": "f8bf787b-51a5-4f89-8649-f63b64e2a45d",
   "metadata": {},
   "outputs": [],
   "source": [
    "## Plot the results\n",
    "plt.figure(figsize=(10, 6))\n",
    "plt.scatter(y_test, y_pred, edgecolors=(0, 0, 0))\n",
    "plt.plot([y_test.min(), y_test.max()], [y_test.min(), y_test.max()], 'k--', lw=4)\n",
    "plt.xlabel('Measured')\n",
    "plt.ylabel('Predicted')\n",
    "plt.title('Measured vs Predicted')\n",
    "plt.show()"
   ]
  },
  {
   "cell_type": "markdown",
   "id": "269d14b3-d3dc-4620-b534-0665cf681193",
   "metadata": {},
   "source": [
    "## Predicting New Values\n",
    "\n",
    "We can use our model to predict median house value when given new data."
   ]
  },
  {
   "cell_type": "code",
   "execution_count": null,
   "id": "ea97fa7b-5cbd-4b91-80bd-27259e45f15d",
   "metadata": {},
   "outputs": [],
   "source": [
    "new_data = pd.DataFrame({\n",
    "    'MedInc': [8.5], 'HouseAge': [30], 'AveRooms': [6], 'AveBedrms': [1],\n",
    "    'Population': [1200], 'AveOccup': [3], 'Latitude': [34.0], 'Longitude': [-118.0]\n",
    "})\n",
    "\n",
    "# Predict the median house value\n",
    "new_prediction = model.predict(new_data)\n",
    "print(f\"Predicted Median House Value: {new_prediction[0]:.2f}\")\n"
   ]
  }
 ],
 "metadata": {
  "kernelspec": {
   "display_name": "Python 3 (ipykernel)",
   "language": "python",
   "name": "python3"
  },
  "language_info": {
   "codemirror_mode": {
    "name": "ipython",
    "version": 3
   },
   "file_extension": ".py",
   "mimetype": "text/x-python",
   "name": "python",
   "nbconvert_exporter": "python",
   "pygments_lexer": "ipython3",
   "version": "3.12.9"
  }
 },
 "nbformat": 4,
 "nbformat_minor": 5
}
