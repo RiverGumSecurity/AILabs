{
 "cells": [
  {
   "cell_type": "markdown",
   "id": "5b536dbe-d217-4ded-96bb-55a0006f0351",
   "metadata": {},
   "source": [
    "<a href=\"https://colab.research.google.com/github/RiverGumSecurity/AILabs/blob/main/022_LargeLanguageModels/inference.ipynb\" target=\"_new\"><img src=\"https://colab.research.google.com/assets/colab-badge.svg\" alt=\"Open In Colab\"/></a>"
   ]
  },
  {
   "cell_type": "code",
   "execution_count": null,
   "id": "4764d8b6-e9f5-4c56-ab23-754a2c9b5bdc",
   "metadata": {},
   "outputs": [],
   "source": [
    "# This code fixes a word wrapping issue\n",
    "# in Google Co-Lab on Text Streamer output.\n",
    "from warnings import warn\n",
    "from IPython import get_ipython\n",
    "from IPython.display import HTML, display\n",
    "from transformers import TextStreamer\n",
    "\n",
    "def enable_word_wrap(*args, **kwargs):\n",
    "    display(HTML('''\n",
    "    <style>\n",
    "        pre {\n",
    "            white-space: pre-wrap;\n",
    "        }\n",
    "    </style>\n",
    "    '''))\n",
    "\n",
    "def register_ipython_callback_once(event_name, cb):\n",
    "    ev = get_ipython().events\n",
    "    cb_unregs = [cb_old for cb_old in ev.callbacks[event_name] if cb_old.__name__ == cb.__name__]\n",
    "    if len(cb_unregs) == 1 and cb.__code__ == cb_unregs[0].__code__:\n",
    "        return\n",
    "    for cb_old in cb_unregs:\n",
    "        warn(f'Removing unexpected callback {cb_old}.')\n",
    "        ev.unregister(event_name, cb_old)\n",
    "    ev.register(event_name, cb)\n",
    "\n",
    "register_ipython_callback_once('pre_run_cell', enable_word_wrap)"
   ]
  },
  {
   "cell_type": "code",
   "execution_count": null,
   "id": "82947277-df1f-4f70-b02b-b4ec5cb1b5df",
   "metadata": {},
   "outputs": [],
   "source": [
    "import torch\n",
    "import warnings\n",
    "import os\n",
    "import sys\n",
    "import pathlib\n",
    "try:\n",
    "    import unsloth\n",
    "except:\n",
    "    if 'google.colab' in sys.modules:\n",
    "        !pip install unsloth\n",
    "\n",
    "# suppresses some noisey warnings which are just annoying\n",
    "warnings.filterwarnings('ignore')\n",
    "max_seq_length = 4096\n",
    "\n",
    "# Setup Hugging Face Credentials.\n",
    "HF_APIKEY = ''\n",
    "if 'google.colab' in sys.modules:\n",
    "    from google.colab import userdata\n",
    "    HF_APIKEY = userdata.get('HF_APIKEY')\n",
    "else:\n",
    "    with open(pathlib.Path.home() / '.hfkey') as hf:\n",
    "        HF_APIKEY = hf.read().strip()\n",
    "if not HF_APIKEY:\n",
    "    print('[-] ERROR: Cannot continue without Hugging Face API Key')\n",
    "    sys.exit(0)\n",
    "os.environ['HF_TOKEN'] = HF_APIKEY\n",
    "\n",
    "model, tokenizer = unsloth.FastLanguageModel.from_pretrained(\n",
    "    model_name = \"joffthyer/l3-bhisblogs-infotech-improved\",\n",
    "    max_seq_length = max_seq_length,\n",
    "    dtype = None, load_in_4bit = True\n",
    ")"
   ]
  },
  {
   "cell_type": "code",
   "execution_count": null,
   "id": "093a9a6f-7acd-4ae3-9363-e8616971ca0b",
   "metadata": {},
   "outputs": [],
   "source": [
    "from transformers import TextStreamer\n",
    "\n",
    "prompt = \"\"\"\n",
    "Below is an instruction that describes a task, paired with an input that provides further context.\n",
    "Write a response that appropriately completes the request.\n",
    "\n",
    "### Instruction:\n",
    "{}\n",
    "\n",
    "### Input:\n",
    "{}\n",
    "\n",
    "### Response:\n",
    "{}\"\"\"\n"
   ]
  },
  {
   "cell_type": "code",
   "execution_count": null,
   "id": "960bde9a-d5fe-446e-a795-eee951c2a063",
   "metadata": {},
   "outputs": [],
   "source": [
    "_ = unsloth.FastLanguageModel.for_inference(model)\n",
    "\n",
    "def query_model(text):\n",
    "    inputs = tokenizer(\n",
    "        [prompt.format(text, '', '')], return_tensors = \"pt\").to(\"cuda\")\n",
    "    text_streamer = TextStreamer(tokenizer)\n",
    "    _ = model.generate(**inputs, streamer = text_streamer, max_new_tokens = 4096)\n",
    "\n",
    "query_model('Write a blog in the style of Joff Thyer about password policies and encryption.')\n",
    "\n"
   ]
  },
  {
   "cell_type": "code",
   "execution_count": null,
   "id": "44a54a37-c65a-4e27-be78-28aef9a7235a",
   "metadata": {},
   "outputs": [],
   "source": []
  }
 ],
 "metadata": {
  "kernelspec": {
   "display_name": "Python 3 (ipykernel)",
   "language": "python",
   "name": "python3"
  },
  "language_info": {
   "codemirror_mode": {
    "name": "ipython",
    "version": 3
   },
   "file_extension": ".py",
   "mimetype": "text/x-python",
   "name": "python",
   "nbconvert_exporter": "python",
   "pygments_lexer": "ipython3",
   "version": "3.12.7"
  }
 },
 "nbformat": 4,
 "nbformat_minor": 5
}
